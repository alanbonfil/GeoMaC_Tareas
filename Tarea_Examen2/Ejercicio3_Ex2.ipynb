{
 "cells": [
  {
   "cell_type": "markdown",
   "metadata": {},
   "source": [
    "# SEGUNDO EXÁMEN\n",
    "## GEOFÍSICA MATEMÁTICA Y COMPUTACIONAL\n",
    "\n",
    "- Profesor: Luis Miguel de la Cruz\n",
    "- Alumno: Alan de la Fuente Bonfil"
   ]
  },
  {
   "cell_type": "markdown",
   "metadata": {},
   "source": [
    "### EJERCICIO 3: ECUACIÓN LOGÍSTICA"
   ]
  },
  {
   "cell_type": "code",
   "execution_count": 24,
   "metadata": {},
   "outputs": [],
   "source": [
    "import numpy as np\n",
    "import matplotlib.pyplot as plt\n",
    "%matplotlib inline"
   ]
  },
  {
   "cell_type": "code",
   "execution_count": 33,
   "metadata": {},
   "outputs": [],
   "source": [
    "\"\"\" \n",
    "Se define la función para el tamaño de la malla \n",
    "\n",
    "Parámetros \n",
    "\n",
    "a = punto de inicio del dominio\n",
    "b = punto final del dominio\n",
    "Nt = número de nodos o paso del tiempo\n",
    "\n",
    "return\n",
    "ht = tamaño del paso del tiempo\n",
    "\"\"\"\n",
    "def mesh (a, b, Nt ):\n",
    "    ht = (b-a) / Nt\n",
    "    return ht\n",
    "\"\"\"\n",
    "función de la solución exacta\n",
    "\n",
    "parámetros \n",
    "t = tiempo\n",
    "y0 = condición inicial \n",
    "lam = lambda\n",
    "\n",
    "Return\n",
    "(y0)/ (y0 + (1 - y0)* np. exp (- lam * t))\n",
    "\"\"\"\n",
    "\n",
    "def exactSolution (t, y0 , lam ):\n",
    "    return (y0)/ (y0 + (1 - y0)* np. exp (- lam * t))\n",
    "\"\"\"\n",
    "función para el método de Euler hacia adelante\n",
    "\n",
    "parámetros\n",
    "\n",
    "ht = tamaño del paso de tiempo\n",
    "lam = lambda\n",
    "y = función a aproximar\n",
    "\n",
    "return\n",
    "y = función por Euler hacia adelante\n",
    "\"\"\"\n",
    "\n",
    "def forwardEuler (y, ht , lam):\n",
    "   # A = 1 + ht* lam - (ht* lam*y)\n",
    "    #An = [A]\n",
    "    for i, val in enumerate (y [0: -1]):\n",
    "        y[i +1] = y[i] + ht* (lam * y[i]*(1-y[i]))\n",
    "       # An. append (An[i] * A)\n",
    "    return y"
   ]
  },
  {
   "cell_type": "code",
   "execution_count": 54,
   "metadata": {},
   "outputs": [],
   "source": [
    "Nt = 16 #numero de pasos en el timempo\n",
    "Tmax = 1 #tiempo máximo\n",
    "ht = mesh (0, Tmax , Nt)\n",
    "y0 = 0.01 #condición inicial\n",
    "lam = 10 #lambda\n",
    "t = np. linspace (0, Tmax , Nt +1) #coordenadas de la malla\n",
    "yf = np. zeros (Nt+1) \n",
    "yf [0] = y0\n",
    "error_f = forwardEuler (yf , ht , lam ) #cálculo de error para Euler hacia adelante\n",
    "tl = np. linspace (0, Tmax , 100) #Coordenadas de la malla para mejor graficación\n",
    "y_exacta = exactSolution (tl , y0 , lam ) #solución exacta por malla extendida\n",
    "y_exac_p = exactSolution (t, y0 , lam)  #solución exacta por malla normal\n",
    "norma_error_f = np. linalg . norm (yf - y_exac_p ,2) #aplicación de norma 2 al error"
   ]
  },
  {
   "cell_type": "code",
   "execution_count": 55,
   "metadata": {
    "scrolled": true
   },
   "outputs": [],
   "source": [
    "An = forwardEuler(yf, ht, lam) \n"
   ]
  },
  {
   "cell_type": "code",
   "execution_count": 62,
   "metadata": {
    "scrolled": true
   },
   "outputs": [
    {
     "data": {
      "image/png": "[encoded data removed]",
      "text/plain": [
       "<Figure size 432x288 with 1 Axes>"
      ]
     },
     "metadata": {},
     "output_type": "display_data"
    }
   ],
   "source": [
    "Ecuacion = '$y(t) = y_0 / y_0 + (1 - y_0) e^{-\\lambda t}$,'\n",
    "\n",
    "plt.style.use('seaborn-white')\n",
    "plt.suptitle('Función logística')\n",
    "plt.title('Decaimiento Radioactivo', fontsize =14)\n",
    "plt.plot(tl, y_exacta, 'gray',lw =3,label ='Sol.Exacta')\n",
    "plt.plot(t, yf, marker='^', linestyle='--', color='g', label ='Nt=16 , Error:0.45282')\n",
    "plt.title(Ecuacion, fontsize =12, color ='blue')\n",
    "plt.xlim(-0.04,1.04)\n",
    "plt.ylim(-0.05 ,1.05)\n",
    "plt.xlabel('$t$')\n",
    "plt.ylabel('$y(t)$')\n",
    "plt.legend(loc='upper left', ncol =1, framealpha =0.75 , fancybox =True , fontsize =14)\n",
    "plt.grid(color ='gray')\n",
    "nticks = np.arange(1, Nt +1 ,1)\n",
    "plt.savefig('decaimiento_Nt_{}.pdf'.format(Nt))\n",
    "plt.show()"
   ]
  },
  {
   "cell_type": "code",
   "execution_count": null,
   "metadata": {},
   "outputs": [],
   "source": []
  }
 ],
 "metadata": {
  "kernelspec": {
   "display_name": "Python 3",
   "language": "python",
   "name": "python3"
  },
  "language_info": {
   "codemirror_mode": {
    "name": "ipython",
    "version": 3
   },
   "file_extension": ".py",
   "mimetype": "text/x-python",
   "name": "python",
   "nbconvert_exporter": "python",
   "pygments_lexer": "ipython3",
   "version": "3.8.6"
  }
 },
 "nbformat": 4,
 "nbformat_minor": 4
}
